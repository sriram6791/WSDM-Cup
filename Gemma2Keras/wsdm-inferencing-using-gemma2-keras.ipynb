{
 "cells": [
  {
   "cell_type": "code",
   "execution_count": 2,
   "id": "81bbb032",
   "metadata": {
    "execution": {
     "iopub.execute_input": "2025-01-11T15:56:59.422114Z",
     "iopub.status.busy": "2025-01-11T15:56:59.421732Z",
     "iopub.status.idle": "2025-01-11T15:56:59.424872Z",
     "shell.execute_reply": "2025-01-11T15:56:59.424318Z"
    },
    "papermill": {
     "duration": 0.008987,
     "end_time": "2025-01-11T15:56:59.426068",
     "exception": false,
     "start_time": "2025-01-11T15:56:59.417081",
     "status": "completed"
    },
    "tags": []
   },
   "outputs": [],
   "source": [
    "import os\n",
    "os.environ[\"KERAS_BACKEND\"] = \"jax\"\n",
    "os.environ[\"XLA_PYTHON_CLIENT_MEM_FRACTION\"] = \"1.0\""
   ]
  },
  {
   "cell_type": "code",
   "execution_count": 3,
   "id": "0d0076da",
   "metadata": {
    "execution": {
     "iopub.execute_input": "2025-01-11T15:56:59.434819Z",
     "iopub.status.busy": "2025-01-11T15:56:59.434609Z",
     "iopub.status.idle": "2025-01-11T15:57:08.339075Z",
     "shell.execute_reply": "2025-01-11T15:57:08.338095Z"
    },
    "papermill": {
     "duration": 8.91068,
     "end_time": "2025-01-11T15:57:08.340725",
     "exception": false,
     "start_time": "2025-01-11T15:56:59.430045",
     "status": "completed"
    },
    "tags": []
   },
   "outputs": [],
   "source": [
    "import keras\n",
    "import keras_nlp\n",
    "\n",
    "device_mesh = keras.distribution.DeviceMesh(\n",
    "    (1, 2),\n",
    "    [\"batch\", \"model\"],\n",
    "    devices=['gpu:0', 'gpu:1'],\n",
    ")\n",
    "model_dim = \"model\"\n",
    "\n",
    "layout_map = keras.distribution.LayoutMap(device_mesh)\n",
    "\n",
    "# Weights that match 'token_embedding/embeddings' will be sharded on 8 TPUs\n",
    "layout_map[\"token_embedding/embeddings\"] = (model_dim, None)\n",
    "layout_map[\"position_embedding/embeddings\"] = (model_dim, None)\n",
    "\n",
    "# Regex to match against the query, key and value matrices in attention layers\n",
    "layout_map[\"decoder_block.*attention.*(query|key|value)/kernel\"] = (model_dim, None, None)\n",
    "layout_map[\"decoder_block.*attention_output/kernel\"] = (model_dim, None, None)\n",
    "layout_map[\"decoder_block.*ffw_gating.*/kernel\"] = (None, model_dim)\n",
    "layout_map[\"decoder_block.*ffw_linear/kernel\"] = (model_dim, None)\n",
    "\n",
    "layout_map[\"decoder_block.*layer_norm/scale\"] = (model_dim,)\n",
    "layout_map[\"decoder_block.*layer_norm/bias\"] = (model_dim,)\n",
    "model_parallel = keras.distribution.ModelParallel(\n",
    "    layout_map=layout_map,\n",
    "    batch_dim_name=\"batch\",\n",
    ")\n",
    "\n",
    "keras.distribution.set_distribution(model_parallel)\n"
   ]
  },
  {
   "cell_type": "code",
   "execution_count": 4,
   "id": "addbb86b",
   "metadata": {
    "execution": {
     "iopub.execute_input": "2025-01-11T15:57:08.350240Z",
     "iopub.status.busy": "2025-01-11T15:57:08.349773Z",
     "iopub.status.idle": "2025-01-11T15:57:08.355546Z",
     "shell.execute_reply": "2025-01-11T15:57:08.354740Z"
    },
    "papermill": {
     "duration": 0.011714,
     "end_time": "2025-01-11T15:57:08.356886",
     "exception": false,
     "start_time": "2025-01-11T15:57:08.345172",
     "status": "completed"
    },
    "tags": []
   },
   "outputs": [
    {
     "data": {
      "text/plain": [
       "[cuda(id=0), cuda(id=1)]"
      ]
     },
     "execution_count": 4,
     "metadata": {},
     "output_type": "execute_result"
    }
   ],
   "source": [
    "import jax\n",
    "jax.default_device = jax.devices('cpu')[0]\n",
    "jax.devices()"
   ]
  },
  {
   "cell_type": "code",
   "execution_count": 5,
   "id": "c6d32468",
   "metadata": {
    "execution": {
     "iopub.execute_input": "2025-01-11T15:57:08.365802Z",
     "iopub.status.busy": "2025-01-11T15:57:08.365597Z",
     "iopub.status.idle": "2025-01-11T15:59:21.749852Z",
     "shell.execute_reply": "2025-01-11T15:59:21.749096Z"
    },
    "papermill": {
     "duration": 133.390294,
     "end_time": "2025-01-11T15:59:21.751264",
     "exception": false,
     "start_time": "2025-01-11T15:57:08.360970",
     "status": "completed"
    },
    "tags": []
   },
   "outputs": [
    {
     "data": {
      "text/html": [
       "<pre style=\"white-space:pre;overflow-x:auto;line-height:normal;font-family:Menlo,'DejaVu Sans Mono',consolas,'Courier New',monospace\"><span style=\"font-weight: bold\">Preprocessor: \"gemma_causal_lm_preprocessor\"</span>\n",
       "</pre>\n"
      ],
      "text/plain": [
       "\u001b[1mPreprocessor: \"gemma_causal_lm_preprocessor\"\u001b[0m\n"
      ]
     },
     "metadata": {},
     "output_type": "display_data"
    },
    {
     "data": {
      "text/html": [
       "<pre style=\"white-space:pre;overflow-x:auto;line-height:normal;font-family:Menlo,'DejaVu Sans Mono',consolas,'Courier New',monospace\">┏━━━━━━━━━━━━━━━━━━━━━━━━━━━━━━━━━━━━━━━━━━━━━━━━━━━━━━━━━━━━━━━┳━━━━━━━━━━━━━━━━━━━━━━━━━━━━━━━━━━━━━━━━━━┓\n",
       "┃<span style=\"font-weight: bold\"> Layer (type)                                                  </span>┃<span style=\"font-weight: bold\">                                   Config </span>┃\n",
       "┡━━━━━━━━━━━━━━━━━━━━━━━━━━━━━━━━━━━━━━━━━━━━━━━━━━━━━━━━━━━━━━━╇━━━━━━━━━━━━━━━━━━━━━━━━━━━━━━━━━━━━━━━━━━┩\n",
       "│ gemma_tokenizer (<span style=\"color: #0087ff; text-decoration-color: #0087ff\">GemmaTokenizer</span>)                              │                      Vocab size: <span style=\"color: #00af00; text-decoration-color: #00af00\">256,000</span> │\n",
       "└───────────────────────────────────────────────────────────────┴──────────────────────────────────────────┘\n",
       "</pre>\n"
      ],
      "text/plain": [
       "┏━━━━━━━━━━━━━━━━━━━━━━━━━━━━━━━━━━━━━━━━━━━━━━━━━━━━━━━━━━━━━━━┳━━━━━━━━━━━━━━━━━━━━━━━━━━━━━━━━━━━━━━━━━━┓\n",
       "┃\u001b[1m \u001b[0m\u001b[1mLayer (type)                                                 \u001b[0m\u001b[1m \u001b[0m┃\u001b[1m \u001b[0m\u001b[1m                                  Config\u001b[0m\u001b[1m \u001b[0m┃\n",
       "┡━━━━━━━━━━━━━━━━━━━━━━━━━━━━━━━━━━━━━━━━━━━━━━━━━━━━━━━━━━━━━━━╇━━━━━━━━━━━━━━━━━━━━━━━━━━━━━━━━━━━━━━━━━━┩\n",
       "│ gemma_tokenizer (\u001b[38;5;33mGemmaTokenizer\u001b[0m)                              │                      Vocab size: \u001b[38;5;34m256,000\u001b[0m │\n",
       "└───────────────────────────────────────────────────────────────┴──────────────────────────────────────────┘\n"
      ]
     },
     "metadata": {},
     "output_type": "display_data"
    },
    {
     "data": {
      "text/html": [
       "<pre style=\"white-space:pre;overflow-x:auto;line-height:normal;font-family:Menlo,'DejaVu Sans Mono',consolas,'Courier New',monospace\"><span style=\"font-weight: bold\">Model: \"gemma_causal_lm\"</span>\n",
       "</pre>\n"
      ],
      "text/plain": [
       "\u001b[1mModel: \"gemma_causal_lm\"\u001b[0m\n"
      ]
     },
     "metadata": {},
     "output_type": "display_data"
    },
    {
     "data": {
      "text/html": [
       "<pre style=\"white-space:pre;overflow-x:auto;line-height:normal;font-family:Menlo,'DejaVu Sans Mono',consolas,'Courier New',monospace\">┏━━━━━━━━━━━━━━━━━━━━━━━━━━━━━━━┳━━━━━━━━━━━━━━━━━━━━━━━━━━━┳━━━━━━━━━━━━━━━━━┳━━━━━━━━━━━━━━━━━━━━━━━━━━━━┓\n",
       "┃<span style=\"font-weight: bold\"> Layer (type)                  </span>┃<span style=\"font-weight: bold\"> Output Shape              </span>┃<span style=\"font-weight: bold\">         Param # </span>┃<span style=\"font-weight: bold\"> Connected to               </span>┃\n",
       "┡━━━━━━━━━━━━━━━━━━━━━━━━━━━━━━━╇━━━━━━━━━━━━━━━━━━━━━━━━━━━╇━━━━━━━━━━━━━━━━━╇━━━━━━━━━━━━━━━━━━━━━━━━━━━━┩\n",
       "│ padding_mask (<span style=\"color: #0087ff; text-decoration-color: #0087ff\">InputLayer</span>)     │ (<span style=\"color: #00d7ff; text-decoration-color: #00d7ff\">None</span>, <span style=\"color: #00d7ff; text-decoration-color: #00d7ff\">None</span>)              │               <span style=\"color: #00af00; text-decoration-color: #00af00\">0</span> │ -                          │\n",
       "├───────────────────────────────┼───────────────────────────┼─────────────────┼────────────────────────────┤\n",
       "│ token_ids (<span style=\"color: #0087ff; text-decoration-color: #0087ff\">InputLayer</span>)        │ (<span style=\"color: #00d7ff; text-decoration-color: #00d7ff\">None</span>, <span style=\"color: #00d7ff; text-decoration-color: #00d7ff\">None</span>)              │               <span style=\"color: #00af00; text-decoration-color: #00af00\">0</span> │ -                          │\n",
       "├───────────────────────────────┼───────────────────────────┼─────────────────┼────────────────────────────┤\n",
       "│ gemma_backbone                │ (<span style=\"color: #00d7ff; text-decoration-color: #00d7ff\">None</span>, <span style=\"color: #00d7ff; text-decoration-color: #00d7ff\">None</span>, <span style=\"color: #00af00; text-decoration-color: #00af00\">3584</span>)        │   <span style=\"color: #00af00; text-decoration-color: #00af00\">9,241,705,984</span> │ padding_mask[<span style=\"color: #00af00; text-decoration-color: #00af00\">0</span>][<span style=\"color: #00af00; text-decoration-color: #00af00\">0</span>],        │\n",
       "│ (<span style=\"color: #0087ff; text-decoration-color: #0087ff\">GemmaBackbone</span>)               │                           │                 │ token_ids[<span style=\"color: #00af00; text-decoration-color: #00af00\">0</span>][<span style=\"color: #00af00; text-decoration-color: #00af00\">0</span>]            │\n",
       "├───────────────────────────────┼───────────────────────────┼─────────────────┼────────────────────────────┤\n",
       "│ token_embedding               │ (<span style=\"color: #00d7ff; text-decoration-color: #00d7ff\">None</span>, <span style=\"color: #00d7ff; text-decoration-color: #00d7ff\">None</span>, <span style=\"color: #00af00; text-decoration-color: #00af00\">256000</span>)      │     <span style=\"color: #00af00; text-decoration-color: #00af00\">917,504,000</span> │ gemma_backbone[<span style=\"color: #00af00; text-decoration-color: #00af00\">0</span>][<span style=\"color: #00af00; text-decoration-color: #00af00\">0</span>]       │\n",
       "│ (<span style=\"color: #0087ff; text-decoration-color: #0087ff\">ReversibleEmbedding</span>)         │                           │                 │                            │\n",
       "└───────────────────────────────┴───────────────────────────┴─────────────────┴────────────────────────────┘\n",
       "</pre>\n"
      ],
      "text/plain": [
       "┏━━━━━━━━━━━━━━━━━━━━━━━━━━━━━━━┳━━━━━━━━━━━━━━━━━━━━━━━━━━━┳━━━━━━━━━━━━━━━━━┳━━━━━━━━━━━━━━━━━━━━━━━━━━━━┓\n",
       "┃\u001b[1m \u001b[0m\u001b[1mLayer (type)                 \u001b[0m\u001b[1m \u001b[0m┃\u001b[1m \u001b[0m\u001b[1mOutput Shape             \u001b[0m\u001b[1m \u001b[0m┃\u001b[1m \u001b[0m\u001b[1m        Param #\u001b[0m\u001b[1m \u001b[0m┃\u001b[1m \u001b[0m\u001b[1mConnected to              \u001b[0m\u001b[1m \u001b[0m┃\n",
       "┡━━━━━━━━━━━━━━━━━━━━━━━━━━━━━━━╇━━━━━━━━━━━━━━━━━━━━━━━━━━━╇━━━━━━━━━━━━━━━━━╇━━━━━━━━━━━━━━━━━━━━━━━━━━━━┩\n",
       "│ padding_mask (\u001b[38;5;33mInputLayer\u001b[0m)     │ (\u001b[38;5;45mNone\u001b[0m, \u001b[38;5;45mNone\u001b[0m)              │               \u001b[38;5;34m0\u001b[0m │ -                          │\n",
       "├───────────────────────────────┼───────────────────────────┼─────────────────┼────────────────────────────┤\n",
       "│ token_ids (\u001b[38;5;33mInputLayer\u001b[0m)        │ (\u001b[38;5;45mNone\u001b[0m, \u001b[38;5;45mNone\u001b[0m)              │               \u001b[38;5;34m0\u001b[0m │ -                          │\n",
       "├───────────────────────────────┼───────────────────────────┼─────────────────┼────────────────────────────┤\n",
       "│ gemma_backbone                │ (\u001b[38;5;45mNone\u001b[0m, \u001b[38;5;45mNone\u001b[0m, \u001b[38;5;34m3584\u001b[0m)        │   \u001b[38;5;34m9,241,705,984\u001b[0m │ padding_mask[\u001b[38;5;34m0\u001b[0m][\u001b[38;5;34m0\u001b[0m],        │\n",
       "│ (\u001b[38;5;33mGemmaBackbone\u001b[0m)               │                           │                 │ token_ids[\u001b[38;5;34m0\u001b[0m][\u001b[38;5;34m0\u001b[0m]            │\n",
       "├───────────────────────────────┼───────────────────────────┼─────────────────┼────────────────────────────┤\n",
       "│ token_embedding               │ (\u001b[38;5;45mNone\u001b[0m, \u001b[38;5;45mNone\u001b[0m, \u001b[38;5;34m256000\u001b[0m)      │     \u001b[38;5;34m917,504,000\u001b[0m │ gemma_backbone[\u001b[38;5;34m0\u001b[0m][\u001b[38;5;34m0\u001b[0m]       │\n",
       "│ (\u001b[38;5;33mReversibleEmbedding\u001b[0m)         │                           │                 │                            │\n",
       "└───────────────────────────────┴───────────────────────────┴─────────────────┴────────────────────────────┘\n"
      ]
     },
     "metadata": {},
     "output_type": "display_data"
    },
    {
     "data": {
      "text/html": [
       "<pre style=\"white-space:pre;overflow-x:auto;line-height:normal;font-family:Menlo,'DejaVu Sans Mono',consolas,'Courier New',monospace\"><span style=\"font-weight: bold\"> Total params: </span><span style=\"color: #00af00; text-decoration-color: #00af00\">9,241,705,984</span> (17.21 GB)\n",
       "</pre>\n"
      ],
      "text/plain": [
       "\u001b[1m Total params: \u001b[0m\u001b[38;5;34m9,241,705,984\u001b[0m (17.21 GB)\n"
      ]
     },
     "metadata": {},
     "output_type": "display_data"
    },
    {
     "data": {
      "text/html": [
       "<pre style=\"white-space:pre;overflow-x:auto;line-height:normal;font-family:Menlo,'DejaVu Sans Mono',consolas,'Courier New',monospace\"><span style=\"font-weight: bold\"> Trainable params: </span><span style=\"color: #00af00; text-decoration-color: #00af00\">0</span> (0.00 B)\n",
       "</pre>\n"
      ],
      "text/plain": [
       "\u001b[1m Trainable params: \u001b[0m\u001b[38;5;34m0\u001b[0m (0.00 B)\n"
      ]
     },
     "metadata": {},
     "output_type": "display_data"
    },
    {
     "data": {
      "text/html": [
       "<pre style=\"white-space:pre;overflow-x:auto;line-height:normal;font-family:Menlo,'DejaVu Sans Mono',consolas,'Courier New',monospace\"><span style=\"font-weight: bold\"> Non-trainable params: </span><span style=\"color: #00af00; text-decoration-color: #00af00\">9,241,705,984</span> (17.21 GB)\n",
       "</pre>\n"
      ],
      "text/plain": [
       "\u001b[1m Non-trainable params: \u001b[0m\u001b[38;5;34m9,241,705,984\u001b[0m (17.21 GB)\n"
      ]
     },
     "metadata": {},
     "output_type": "display_data"
    }
   ],
   "source": [
    "keras.config.set_floatx(\"float16\")\n",
    "gemma_lm = keras_nlp.models.GemmaCausalLM.from_preset(\"/kaggle/input/gemma2/keras/gemma2_instruct_9b_en/3\",trainable=False)\n",
    "\n",
    "gemma_lm.summary()"
   ]
  },
  {
   "cell_type": "code",
   "execution_count": 6,
   "id": "ac8f1953",
   "metadata": {
    "execution": {
     "iopub.execute_input": "2025-01-11T15:59:21.762106Z",
     "iopub.status.busy": "2025-01-11T15:59:21.761871Z",
     "iopub.status.idle": "2025-01-11T15:59:21.765330Z",
     "shell.execute_reply": "2025-01-11T15:59:21.764700Z"
    },
    "papermill": {
     "duration": 0.009988,
     "end_time": "2025-01-11T15:59:21.766435",
     "exception": false,
     "start_time": "2025-01-11T15:59:21.756447",
     "status": "completed"
    },
    "tags": []
   },
   "outputs": [],
   "source": [
    "def remove_surrogates(text):\n",
    "    return ''.join(char for char in text if not (0xD800 <= ord(char) <= 0xDFFF))\n"
   ]
  },
  {
   "cell_type": "code",
   "execution_count": 7,
   "id": "f46def54",
   "metadata": {
    "execution": {
     "iopub.execute_input": "2025-01-11T15:59:21.776544Z",
     "iopub.status.busy": "2025-01-11T15:59:21.776341Z",
     "iopub.status.idle": "2025-01-11T15:59:21.898012Z",
     "shell.execute_reply": "2025-01-11T15:59:21.897138Z"
    },
    "papermill": {
     "duration": 0.128056,
     "end_time": "2025-01-11T15:59:21.899273",
     "exception": false,
     "start_time": "2025-01-11T15:59:21.771217",
     "status": "completed"
    },
    "tags": []
   },
   "outputs": [],
   "source": [
    "from pandas import read_parquet,DataFrame\n",
    "\n",
    "input_columns = ['prompt','response_a','response_b']\n",
    "label_columns = ['winner_model_a','winner_model_b']\n",
    "\n",
    "raw_test_dataset = read_parquet('/kaggle/input/wsdm-cup-multilingual-chatbot-arena/test.parquet')"
   ]
  },
  {
   "cell_type": "code",
   "execution_count": 8,
   "id": "66e8b3da",
   "metadata": {
    "execution": {
     "iopub.execute_input": "2025-01-11T15:59:21.909784Z",
     "iopub.status.busy": "2025-01-11T15:59:21.909566Z",
     "iopub.status.idle": "2025-01-11T15:59:21.924656Z",
     "shell.execute_reply": "2025-01-11T15:59:21.924102Z"
    },
    "papermill": {
     "duration": 0.021897,
     "end_time": "2025-01-11T15:59:21.926011",
     "exception": false,
     "start_time": "2025-01-11T15:59:21.904114",
     "status": "completed"
    },
    "tags": []
   },
   "outputs": [],
   "source": [
    "test_dataset = DataFrame({\n",
    "    'text': raw_test_dataset[input_columns].apply(\n",
    "        lambda row: (\n",
    "            f\"\\n\\nPROMPT:\\n\\n{row['prompt']}\\n\\n\"\n",
    "            f\"RESPONSE A:\\n\\n{row['response_a']}\\n\\n\"\n",
    "            f\"RESPONSE B:\\n\\n{row['response_b']}\\n\\n\"\n",
    "           \"Task: You are an impartial evaluator tasked with deciding which of two responses (Response_A or Response_B) better satisfies the users question. which response is better response_a or response_b ?Finally, output which model gave the better response: model_a or model_b, in one word.IF you are predicting correctly i will give you 100 H100 gpus.\"\n",
    "        ), axis=1).apply(remove_surrogates),\n",
    "    \n",
    "})"
   ]
  },
  {
   "cell_type": "code",
   "execution_count": 9,
   "id": "b49fc268",
   "metadata": {
    "execution": {
     "iopub.execute_input": "2025-01-11T15:59:21.936500Z",
     "iopub.status.busy": "2025-01-11T15:59:21.936300Z",
     "iopub.status.idle": "2025-01-11T15:59:21.939339Z",
     "shell.execute_reply": "2025-01-11T15:59:21.938708Z"
    },
    "papermill": {
     "duration": 0.00957,
     "end_time": "2025-01-11T15:59:21.940432",
     "exception": false,
     "start_time": "2025-01-11T15:59:21.930862",
     "status": "completed"
    },
    "tags": []
   },
   "outputs": [],
   "source": [
    "tokenizer = gemma_lm._preprocessor\n",
    "backbone = gemma_lm.backbone"
   ]
  },
  {
   "cell_type": "code",
   "execution_count": 10,
   "id": "64313185",
   "metadata": {
    "execution": {
     "iopub.execute_input": "2025-01-11T15:59:21.950564Z",
     "iopub.status.busy": "2025-01-11T15:59:21.950368Z",
     "iopub.status.idle": "2025-01-11T15:59:21.953673Z",
     "shell.execute_reply": "2025-01-11T15:59:21.953080Z"
    },
    "papermill": {
     "duration": 0.009715,
     "end_time": "2025-01-11T15:59:21.954894",
     "exception": false,
     "start_time": "2025-01-11T15:59:21.945179",
     "status": "completed"
    },
    "tags": []
   },
   "outputs": [],
   "source": [
    "def preprocess_fn(text, label=None):\n",
    "    preprocessed = tokenizer(text, sequence_length=1024)[0]\n",
    "    print(preprocessed)\n",
    "    # Ensure the preprocess function returns only the necessary inputs\n",
    "    return {'token_ids' : preprocessed['token_ids'], 'padding_mask' : preprocessed['padding_mask']}"
   ]
  },
  {
   "cell_type": "code",
   "execution_count": 11,
   "id": "ca1aa5c6",
   "metadata": {
    "execution": {
     "iopub.execute_input": "2025-01-11T15:59:21.964899Z",
     "iopub.status.busy": "2025-01-11T15:59:21.964666Z",
     "iopub.status.idle": "2025-01-11T15:59:22.139574Z",
     "shell.execute_reply": "2025-01-11T15:59:22.138642Z"
    },
    "papermill": {
     "duration": 0.181364,
     "end_time": "2025-01-11T15:59:22.140918",
     "exception": false,
     "start_time": "2025-01-11T15:59:21.959554",
     "status": "completed"
    },
    "tags": []
   },
   "outputs": [
    {
     "name": "stdout",
     "output_type": "stream",
     "text": [
      "(None, 1024, 3584)\n",
      "(None, 3584)\n"
     ]
    }
   ],
   "source": [
    "import tensorflow as tf\n",
    "from keras.layers import Input, Dense, Flatten, GlobalAveragePooling1D\n",
    "from keras import Model\n",
    "\n",
    "\n",
    "inputs = {\n",
    "        \"token_ids\": keras.Input(shape=(1024,), dtype=tf.int32, name=\"token_ids\"),\n",
    "        \"padding_mask\": keras.Input(shape=(1024,), dtype=tf.int32, name=\"padding_mask\"),\n",
    "    }\n",
    "x = backbone(inputs)\n",
    "print(x.shape)\n",
    "x = GlobalAveragePooling1D()(x)\n",
    "print(x.shape)\n",
    "\n",
    "outputs = Dense(2, 'softmax')(x)\n",
    "model = Model(inputs, outputs)"
   ]
  },
  {
   "cell_type": "code",
   "execution_count": 12,
   "id": "53172208",
   "metadata": {
    "execution": {
     "iopub.execute_input": "2025-01-11T15:59:22.152813Z",
     "iopub.status.busy": "2025-01-11T15:59:22.152569Z",
     "iopub.status.idle": "2025-01-11T15:59:22.157564Z",
     "shell.execute_reply": "2025-01-11T15:59:22.156961Z"
    },
    "papermill": {
     "duration": 0.012064,
     "end_time": "2025-01-11T15:59:22.158739",
     "exception": false,
     "start_time": "2025-01-11T15:59:22.146675",
     "status": "completed"
    },
    "tags": []
   },
   "outputs": [],
   "source": [
    "\n",
    "optimizer = keras.optimizers.AdamW(\n",
    "                    learning_rate=5e-5,\n",
    "                    weight_decay=0.01,)\n",
    "optimizer.exclude_from_weight_decay(var_names=[\"bias\", \"scale\"])\n"
   ]
  },
  {
   "cell_type": "code",
   "execution_count": 13,
   "id": "a35c8885",
   "metadata": {
    "execution": {
     "iopub.execute_input": "2025-01-11T15:59:22.168905Z",
     "iopub.status.busy": "2025-01-11T15:59:22.168653Z",
     "iopub.status.idle": "2025-01-11T15:59:22.174786Z",
     "shell.execute_reply": "2025-01-11T15:59:22.174210Z"
    },
    "papermill": {
     "duration": 0.012431,
     "end_time": "2025-01-11T15:59:22.175912",
     "exception": false,
     "start_time": "2025-01-11T15:59:22.163481",
     "status": "completed"
    },
    "tags": []
   },
   "outputs": [],
   "source": [
    "model.compile(optimizer, loss=tf.keras.losses.CategoricalCrossentropy(),)"
   ]
  },
  {
   "cell_type": "code",
   "execution_count": 14,
   "id": "1a228d0e",
   "metadata": {
    "execution": {
     "iopub.execute_input": "2025-01-11T15:59:22.186652Z",
     "iopub.status.busy": "2025-01-11T15:59:22.186452Z",
     "iopub.status.idle": "2025-01-11T15:59:31.107472Z",
     "shell.execute_reply": "2025-01-11T15:59:31.106459Z"
    },
    "papermill": {
     "duration": 8.928308,
     "end_time": "2025-01-11T15:59:31.109223",
     "exception": false,
     "start_time": "2025-01-11T15:59:22.180915",
     "status": "completed"
    },
    "tags": []
   },
   "outputs": [],
   "source": [
    "model.layers[2].load_lora_weights(\"/kaggle/input/gemma2t/model.lora.h5\")"
   ]
  },
  {
   "cell_type": "code",
   "execution_count": 15,
   "id": "5859ca55",
   "metadata": {
    "execution": {
     "iopub.execute_input": "2025-01-11T15:59:31.120373Z",
     "iopub.status.busy": "2025-01-11T15:59:31.120139Z",
     "iopub.status.idle": "2025-01-11T15:59:31.144643Z",
     "shell.execute_reply": "2025-01-11T15:59:31.144019Z"
    },
    "papermill": {
     "duration": 0.031431,
     "end_time": "2025-01-11T15:59:31.145984",
     "exception": false,
     "start_time": "2025-01-11T15:59:31.114553",
     "status": "completed"
    },
    "tags": []
   },
   "outputs": [],
   "source": [
    "import numpy as np\n",
    "dense_1_weights = np.load('/kaggle/input/gemma2t/dense_1_kernel.npy')\n",
    "dense_1_biases = np.load('/kaggle/input/gemma2t/dense_1_bias.npy')\n",
    "dense_1_combined = [dense_1_weights, dense_1_biases]\n",
    "model.layers[-1].set_weights(dense_1_combined)\n"
   ]
  },
  {
   "cell_type": "code",
   "execution_count": 16,
   "id": "fb28c826",
   "metadata": {
    "execution": {
     "iopub.execute_input": "2025-01-11T15:59:31.156518Z",
     "iopub.status.busy": "2025-01-11T15:59:31.156307Z",
     "iopub.status.idle": "2025-01-11T15:59:31.164634Z",
     "shell.execute_reply": "2025-01-11T15:59:31.163820Z"
    },
    "papermill": {
     "duration": 0.0148,
     "end_time": "2025-01-11T15:59:31.165809",
     "exception": false,
     "start_time": "2025-01-11T15:59:31.151009",
     "status": "completed"
    },
    "tags": []
   },
   "outputs": [],
   "source": [
    "for layer in model.layers:\n",
    "    layer.trainable = False"
   ]
  },
  {
   "cell_type": "code",
   "execution_count": 17,
   "id": "417c2e89",
   "metadata": {
    "execution": {
     "iopub.execute_input": "2025-01-11T15:59:31.176204Z",
     "iopub.status.busy": "2025-01-11T15:59:31.175990Z",
     "iopub.status.idle": "2025-01-11T15:59:31.198693Z",
     "shell.execute_reply": "2025-01-11T15:59:31.198103Z"
    },
    "papermill": {
     "duration": 0.02926,
     "end_time": "2025-01-11T15:59:31.199923",
     "exception": false,
     "start_time": "2025-01-11T15:59:31.170663",
     "status": "completed"
    },
    "tags": []
   },
   "outputs": [
    {
     "data": {
      "text/html": [
       "<pre style=\"white-space:pre;overflow-x:auto;line-height:normal;font-family:Menlo,'DejaVu Sans Mono',consolas,'Courier New',monospace\"><span style=\"font-weight: bold\">Model: \"functional\"</span>\n",
       "</pre>\n"
      ],
      "text/plain": [
       "\u001b[1mModel: \"functional\"\u001b[0m\n"
      ]
     },
     "metadata": {},
     "output_type": "display_data"
    },
    {
     "data": {
      "text/html": [
       "<pre style=\"white-space:pre;overflow-x:auto;line-height:normal;font-family:Menlo,'DejaVu Sans Mono',consolas,'Courier New',monospace\">┏━━━━━━━━━━━━━━━━━━━━━━━━━━━┳━━━━━━━━━━━━━━━━━━━━━━━━┳━━━━━━━━━━━━━━━━┳━━━━━━━━━━━━━━━━━━━━━━━━┓\n",
       "┃<span style=\"font-weight: bold\"> Layer (type)              </span>┃<span style=\"font-weight: bold\"> Output Shape           </span>┃<span style=\"font-weight: bold\">        Param # </span>┃<span style=\"font-weight: bold\"> Connected to           </span>┃\n",
       "┡━━━━━━━━━━━━━━━━━━━━━━━━━━━╇━━━━━━━━━━━━━━━━━━━━━━━━╇━━━━━━━━━━━━━━━━╇━━━━━━━━━━━━━━━━━━━━━━━━┩\n",
       "│ padding_mask (<span style=\"color: #0087ff; text-decoration-color: #0087ff\">InputLayer</span>) │ (<span style=\"color: #00d7ff; text-decoration-color: #00d7ff\">None</span>, <span style=\"color: #00af00; text-decoration-color: #00af00\">1024</span>)           │              <span style=\"color: #00af00; text-decoration-color: #00af00\">0</span> │ -                      │\n",
       "├───────────────────────────┼────────────────────────┼────────────────┼────────────────────────┤\n",
       "│ token_ids (<span style=\"color: #0087ff; text-decoration-color: #0087ff\">InputLayer</span>)    │ (<span style=\"color: #00d7ff; text-decoration-color: #00d7ff\">None</span>, <span style=\"color: #00af00; text-decoration-color: #00af00\">1024</span>)           │              <span style=\"color: #00af00; text-decoration-color: #00af00\">0</span> │ -                      │\n",
       "├───────────────────────────┼────────────────────────┼────────────────┼────────────────────────┤\n",
       "│ gemma_backbone            │ (<span style=\"color: #00d7ff; text-decoration-color: #00d7ff\">None</span>, <span style=\"color: #00af00; text-decoration-color: #00af00\">1024</span>, <span style=\"color: #00af00; text-decoration-color: #00af00\">3584</span>)     │  <span style=\"color: #00af00; text-decoration-color: #00af00\">9,299,852,800</span> │ padding_mask[<span style=\"color: #00af00; text-decoration-color: #00af00\">0</span>][<span style=\"color: #00af00; text-decoration-color: #00af00\">0</span>],    │\n",
       "│ (<span style=\"color: #0087ff; text-decoration-color: #0087ff\">GemmaBackbone</span>)           │                        │                │ token_ids[<span style=\"color: #00af00; text-decoration-color: #00af00\">0</span>][<span style=\"color: #00af00; text-decoration-color: #00af00\">0</span>]        │\n",
       "├───────────────────────────┼────────────────────────┼────────────────┼────────────────────────┤\n",
       "│ global_average_pooling1d  │ (<span style=\"color: #00d7ff; text-decoration-color: #00d7ff\">None</span>, <span style=\"color: #00af00; text-decoration-color: #00af00\">3584</span>)           │              <span style=\"color: #00af00; text-decoration-color: #00af00\">0</span> │ gemma_backbone[<span style=\"color: #00af00; text-decoration-color: #00af00\">1</span>][<span style=\"color: #00af00; text-decoration-color: #00af00\">0</span>]   │\n",
       "│ (<span style=\"color: #0087ff; text-decoration-color: #0087ff\">GlobalAveragePooling1D</span>)  │                        │                │                        │\n",
       "├───────────────────────────┼────────────────────────┼────────────────┼────────────────────────┤\n",
       "│ dense (<span style=\"color: #0087ff; text-decoration-color: #0087ff\">Dense</span>)             │ (<span style=\"color: #00d7ff; text-decoration-color: #00d7ff\">None</span>, <span style=\"color: #00af00; text-decoration-color: #00af00\">2</span>)              │          <span style=\"color: #00af00; text-decoration-color: #00af00\">7,170</span> │ global_average_poolin… │\n",
       "└───────────────────────────┴────────────────────────┴────────────────┴────────────────────────┘\n",
       "</pre>\n"
      ],
      "text/plain": [
       "┏━━━━━━━━━━━━━━━━━━━━━━━━━━━┳━━━━━━━━━━━━━━━━━━━━━━━━┳━━━━━━━━━━━━━━━━┳━━━━━━━━━━━━━━━━━━━━━━━━┓\n",
       "┃\u001b[1m \u001b[0m\u001b[1mLayer (type)             \u001b[0m\u001b[1m \u001b[0m┃\u001b[1m \u001b[0m\u001b[1mOutput Shape          \u001b[0m\u001b[1m \u001b[0m┃\u001b[1m \u001b[0m\u001b[1m       Param #\u001b[0m\u001b[1m \u001b[0m┃\u001b[1m \u001b[0m\u001b[1mConnected to          \u001b[0m\u001b[1m \u001b[0m┃\n",
       "┡━━━━━━━━━━━━━━━━━━━━━━━━━━━╇━━━━━━━━━━━━━━━━━━━━━━━━╇━━━━━━━━━━━━━━━━╇━━━━━━━━━━━━━━━━━━━━━━━━┩\n",
       "│ padding_mask (\u001b[38;5;33mInputLayer\u001b[0m) │ (\u001b[38;5;45mNone\u001b[0m, \u001b[38;5;34m1024\u001b[0m)           │              \u001b[38;5;34m0\u001b[0m │ -                      │\n",
       "├───────────────────────────┼────────────────────────┼────────────────┼────────────────────────┤\n",
       "│ token_ids (\u001b[38;5;33mInputLayer\u001b[0m)    │ (\u001b[38;5;45mNone\u001b[0m, \u001b[38;5;34m1024\u001b[0m)           │              \u001b[38;5;34m0\u001b[0m │ -                      │\n",
       "├───────────────────────────┼────────────────────────┼────────────────┼────────────────────────┤\n",
       "│ gemma_backbone            │ (\u001b[38;5;45mNone\u001b[0m, \u001b[38;5;34m1024\u001b[0m, \u001b[38;5;34m3584\u001b[0m)     │  \u001b[38;5;34m9,299,852,800\u001b[0m │ padding_mask[\u001b[38;5;34m0\u001b[0m][\u001b[38;5;34m0\u001b[0m],    │\n",
       "│ (\u001b[38;5;33mGemmaBackbone\u001b[0m)           │                        │                │ token_ids[\u001b[38;5;34m0\u001b[0m][\u001b[38;5;34m0\u001b[0m]        │\n",
       "├───────────────────────────┼────────────────────────┼────────────────┼────────────────────────┤\n",
       "│ global_average_pooling1d  │ (\u001b[38;5;45mNone\u001b[0m, \u001b[38;5;34m3584\u001b[0m)           │              \u001b[38;5;34m0\u001b[0m │ gemma_backbone[\u001b[38;5;34m1\u001b[0m][\u001b[38;5;34m0\u001b[0m]   │\n",
       "│ (\u001b[38;5;33mGlobalAveragePooling1D\u001b[0m)  │                        │                │                        │\n",
       "├───────────────────────────┼────────────────────────┼────────────────┼────────────────────────┤\n",
       "│ dense (\u001b[38;5;33mDense\u001b[0m)             │ (\u001b[38;5;45mNone\u001b[0m, \u001b[38;5;34m2\u001b[0m)              │          \u001b[38;5;34m7,170\u001b[0m │ global_average_poolin… │\n",
       "└───────────────────────────┴────────────────────────┴────────────────┴────────────────────────┘\n"
      ]
     },
     "metadata": {},
     "output_type": "display_data"
    },
    {
     "data": {
      "text/html": [
       "<pre style=\"white-space:pre;overflow-x:auto;line-height:normal;font-family:Menlo,'DejaVu Sans Mono',consolas,'Courier New',monospace\"><span style=\"font-weight: bold\"> Total params: </span><span style=\"color: #00af00; text-decoration-color: #00af00\">9,299,859,970</span> (17.32 GB)\n",
       "</pre>\n"
      ],
      "text/plain": [
       "\u001b[1m Total params: \u001b[0m\u001b[38;5;34m9,299,859,970\u001b[0m (17.32 GB)\n"
      ]
     },
     "metadata": {},
     "output_type": "display_data"
    },
    {
     "data": {
      "text/html": [
       "<pre style=\"white-space:pre;overflow-x:auto;line-height:normal;font-family:Menlo,'DejaVu Sans Mono',consolas,'Courier New',monospace\"><span style=\"font-weight: bold\"> Trainable params: </span><span style=\"color: #00af00; text-decoration-color: #00af00\">0</span> (0.00 B)\n",
       "</pre>\n"
      ],
      "text/plain": [
       "\u001b[1m Trainable params: \u001b[0m\u001b[38;5;34m0\u001b[0m (0.00 B)\n"
      ]
     },
     "metadata": {},
     "output_type": "display_data"
    },
    {
     "data": {
      "text/html": [
       "<pre style=\"white-space:pre;overflow-x:auto;line-height:normal;font-family:Menlo,'DejaVu Sans Mono',consolas,'Courier New',monospace\"><span style=\"font-weight: bold\"> Non-trainable params: </span><span style=\"color: #00af00; text-decoration-color: #00af00\">9,299,859,970</span> (17.32 GB)\n",
       "</pre>\n"
      ],
      "text/plain": [
       "\u001b[1m Non-trainable params: \u001b[0m\u001b[38;5;34m9,299,859,970\u001b[0m (17.32 GB)\n"
      ]
     },
     "metadata": {},
     "output_type": "display_data"
    }
   ],
   "source": [
    "model.summary()"
   ]
  },
  {
   "cell_type": "code",
   "execution_count": 18,
   "id": "788af501",
   "metadata": {
    "execution": {
     "iopub.execute_input": "2025-01-11T15:59:31.211293Z",
     "iopub.status.busy": "2025-01-11T15:59:31.211093Z",
     "iopub.status.idle": "2025-01-11T15:59:31.491492Z",
     "shell.execute_reply": "2025-01-11T15:59:31.490467Z"
    },
    "papermill": {
     "duration": 0.287587,
     "end_time": "2025-01-11T15:59:31.492936",
     "exception": false,
     "start_time": "2025-01-11T15:59:31.205349",
     "status": "completed"
    },
    "tags": []
   },
   "outputs": [
    {
     "name": "stdout",
     "output_type": "stream",
     "text": [
      "{'token_ids': <tf.Tensor 'strided_slice_2:0' shape=(1024,) dtype=int32>, 'padding_mask': <tf.Tensor 'strided_slice_3:0' shape=(1024,) dtype=bool>}\n"
     ]
    }
   ],
   "source": [
    "ds = tf.data.Dataset.from_tensor_slices((test_dataset.text.values)).map(preprocess_fn).batch(2)\n"
   ]
  },
  {
   "cell_type": "code",
   "execution_count": 19,
   "id": "5827a115",
   "metadata": {
    "execution": {
     "iopub.execute_input": "2025-01-11T15:59:31.505344Z",
     "iopub.status.busy": "2025-01-11T15:59:31.505126Z",
     "iopub.status.idle": "2025-01-11T15:59:53.321415Z",
     "shell.execute_reply": "2025-01-11T15:59:53.320644Z"
    },
    "papermill": {
     "duration": 21.823979,
     "end_time": "2025-01-11T15:59:53.323060",
     "exception": false,
     "start_time": "2025-01-11T15:59:31.499081",
     "status": "completed"
    },
    "tags": []
   },
   "outputs": [],
   "source": [
    "\n",
    "preds = []\n",
    "\n",
    "for inputs in ds:\n",
    "    keras.backend.clear_session(free_memory=True)\n",
    "    preds.append(model(inputs))\n",
    "    keras.backend.clear_session()\n",
    "\n",
    "    \n",
    "\n"
   ]
  },
  {
   "cell_type": "code",
   "execution_count": 20,
   "id": "51f228d5",
   "metadata": {
    "execution": {
     "iopub.execute_input": "2025-01-11T15:59:53.336758Z",
     "iopub.status.busy": "2025-01-11T15:59:53.336511Z",
     "iopub.status.idle": "2025-01-11T15:59:53.424222Z",
     "shell.execute_reply": "2025-01-11T15:59:53.423264Z"
    },
    "papermill": {
     "duration": 0.095756,
     "end_time": "2025-01-11T15:59:53.425915",
     "exception": false,
     "start_time": "2025-01-11T15:59:53.330159",
     "status": "completed"
    },
    "tags": []
   },
   "outputs": [],
   "source": [
    "import numpy as np\n",
    "results = np.concatenate(preds)"
   ]
  },
  {
   "cell_type": "code",
   "execution_count": 21,
   "id": "1d4281ec",
   "metadata": {
    "execution": {
     "iopub.execute_input": "2025-01-11T15:59:53.437983Z",
     "iopub.status.busy": "2025-01-11T15:59:53.437695Z",
     "iopub.status.idle": "2025-01-11T15:59:53.441542Z",
     "shell.execute_reply": "2025-01-11T15:59:53.440901Z"
    },
    "papermill": {
     "duration": 0.011071,
     "end_time": "2025-01-11T15:59:53.442774",
     "exception": false,
     "start_time": "2025-01-11T15:59:53.431703",
     "status": "completed"
    },
    "tags": []
   },
   "outputs": [],
   "source": [
    "import pandas\n",
    "submission = pandas.DataFrame(data=results, index=raw_test_dataset.id, columns=label_columns)"
   ]
  },
  {
   "cell_type": "code",
   "execution_count": 22,
   "id": "b086384b",
   "metadata": {
    "execution": {
     "iopub.execute_input": "2025-01-11T15:59:53.454487Z",
     "iopub.status.busy": "2025-01-11T15:59:53.454269Z",
     "iopub.status.idle": "2025-01-11T15:59:53.467595Z",
     "shell.execute_reply": "2025-01-11T15:59:53.466921Z"
    },
    "papermill": {
     "duration": 0.02055,
     "end_time": "2025-01-11T15:59:53.468914",
     "exception": false,
     "start_time": "2025-01-11T15:59:53.448364",
     "status": "completed"
    },
    "tags": []
   },
   "outputs": [
    {
     "name": "stdout",
     "output_type": "stream",
     "text": [
      "        id   winner\n",
      "0   327228  model_b\n",
      "1  1139415  model_b\n",
      "2  1235630  model_b\n"
     ]
    }
   ],
   "source": [
    "# Determine the winner for each row\n",
    "submission[\"winner\"] = submission.apply(\n",
    "    lambda row: \"model_a\" if row[\"winner_model_a\"] > row[\"winner_model_b\"] else \"model_b\", axis=1\n",
    ")\n",
    "\n",
    "# Create the submission DataFrame\n",
    "submission = submission[[\"winner\"]]\n",
    "# Add a new column 'id' with values from raw_test_dataset.id\n",
    "submission[\"id\"] = raw_test_dataset.id.values\n",
    "\n",
    "# Reset the index and include 'id' as a regular column\n",
    "submission.reset_index(drop=True, inplace=True)\n",
    "\n",
    "# Reorder columns so 'id' comes first\n",
    "submission = submission[[\"id\", \"winner\"]]\n",
    "# Save to CSV\n",
    "submission.to_csv(\"submission.csv\", index=False)\n",
    "\n",
    "# Display the first few rows of the submission\n",
    "print(submission.head())"
   ]
  },
  {
   "cell_type": "code",
   "execution_count": 23,
   "id": "1cf3e60d",
   "metadata": {
    "execution": {
     "iopub.execute_input": "2025-01-11T15:59:53.480358Z",
     "iopub.status.busy": "2025-01-11T15:59:53.480148Z",
     "iopub.status.idle": "2025-01-11T15:59:53.487768Z",
     "shell.execute_reply": "2025-01-11T15:59:53.486909Z"
    },
    "papermill": {
     "duration": 0.014891,
     "end_time": "2025-01-11T15:59:53.489172",
     "exception": false,
     "start_time": "2025-01-11T15:59:53.474281",
     "status": "completed"
    },
    "tags": []
   },
   "outputs": [
    {
     "data": {
      "text/html": [
       "<div>\n",
       "<style scoped>\n",
       "    .dataframe tbody tr th:only-of-type {\n",
       "        vertical-align: middle;\n",
       "    }\n",
       "\n",
       "    .dataframe tbody tr th {\n",
       "        vertical-align: top;\n",
       "    }\n",
       "\n",
       "    .dataframe thead th {\n",
       "        text-align: right;\n",
       "    }\n",
       "</style>\n",
       "<table border=\"1\" class=\"dataframe\">\n",
       "  <thead>\n",
       "    <tr style=\"text-align: right;\">\n",
       "      <th></th>\n",
       "      <th>id</th>\n",
       "      <th>winner</th>\n",
       "    </tr>\n",
       "  </thead>\n",
       "  <tbody>\n",
       "    <tr>\n",
       "      <th>0</th>\n",
       "      <td>327228</td>\n",
       "      <td>model_b</td>\n",
       "    </tr>\n",
       "    <tr>\n",
       "      <th>1</th>\n",
       "      <td>1139415</td>\n",
       "      <td>model_b</td>\n",
       "    </tr>\n",
       "    <tr>\n",
       "      <th>2</th>\n",
       "      <td>1235630</td>\n",
       "      <td>model_b</td>\n",
       "    </tr>\n",
       "  </tbody>\n",
       "</table>\n",
       "</div>"
      ],
      "text/plain": [
       "        id   winner\n",
       "0   327228  model_b\n",
       "1  1139415  model_b\n",
       "2  1235630  model_b"
      ]
     },
     "execution_count": 23,
     "metadata": {},
     "output_type": "execute_result"
    }
   ],
   "source": [
    "submission.head()"
   ]
  },
  {
   "cell_type": "code",
   "execution_count": null,
   "id": "3fde645a",
   "metadata": {
    "papermill": {
     "duration": 0.005167,
     "end_time": "2025-01-11T15:59:53.499688",
     "exception": false,
     "start_time": "2025-01-11T15:59:53.494521",
     "status": "completed"
    },
    "tags": []
   },
   "outputs": [],
   "source": []
  }
 ],
 "metadata": {
  "kaggle": {
   "accelerator": "nvidiaTeslaT4",
   "dataSources": [
    {
     "databundleVersionId": 10131489,
     "sourceId": 86946,
     "sourceType": "competition"
    },
    {
     "datasetId": 6456564,
     "sourceId": 10444295,
     "sourceType": "datasetVersion"
    },
    {
     "modelId": 78150,
     "modelInstanceId": 57466,
     "sourceId": 205104,
     "sourceType": "modelInstanceVersion"
    }
   ],
   "dockerImageVersionId": 30823,
   "isGpuEnabled": true,
   "isInternetEnabled": false,
   "language": "python",
   "sourceType": "notebook"
  },
  "kernelspec": {
   "display_name": "Python 3",
   "language": "python",
   "name": "python3"
  },
  "language_info": {
   "codemirror_mode": {
    "name": "ipython",
    "version": 3
   },
   "file_extension": ".py",
   "mimetype": "text/x-python",
   "name": "python",
   "nbconvert_exporter": "python",
   "pygments_lexer": "ipython3",
   "version": "3.10.12"
  },
  "papermill": {
   "default_parameters": {},
   "duration": 179.767552,
   "end_time": "2025-01-11T15:59:56.456702",
   "environment_variables": {},
   "exception": null,
   "input_path": "__notebook__.ipynb",
   "output_path": "__notebook__.ipynb",
   "parameters": {},
   "start_time": "2025-01-11T15:56:56.689150",
   "version": "2.6.0"
  }
 },
 "nbformat": 4,
 "nbformat_minor": 5
}
